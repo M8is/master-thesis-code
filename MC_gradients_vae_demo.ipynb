{
 "cells": [
  {
   "cell_type": "markdown",
   "metadata": {},
   "source": [
    "# Comparing estimators in a VAE network"
   ]
  },
  {
   "cell_type": "code",
   "execution_count": null,
   "metadata": {},
   "outputs": [],
   "source": [
    "import torch\n",
    "\n",
    "import models.vae\n",
    "import train.vae\n",
    "from mc_estimators.reinforce import Reinforce\n",
    "\n",
    "\n",
    "# === EXPERIMENT PARAMETERS ===\n",
    "seed = 4243254\n",
    "epochs = 20\n",
    "episode_size = 1000\n",
    "learning_rate = 1e-2\n",
    "latent_dim = 20\n",
    "hidden_dim = 200\n",
    "optimizer_class = torch.optim.Adam\n",
    "\n",
    "torch.manual_seed(seed)\n",
    "\n",
    "def pp(mean):\n",
    "    # sigma = sigma.reshape((latent_dim, latent_dim))\n",
    "    # sigma.T @ sigma\n",
    "    return mean.squeeze(), .1 * torch.eye(latent_dim)\n",
    "\n",
    "# Load the data\n",
    "data_holder = train.vae.DataHolder()\n",
    "data_holder.load_datasets()\n",
    "\n",
    "# Train the Variational Auto Encoder\n",
    "data_dim = data_holder.height * data_holder.width\n",
    "encoder = models.vae.Encoder(data_dim, hidden_dim, (latent_dim,), post_processor=pp)\n",
    "decoder = models.vae.Decoder(data_dim, hidden_dim, latent_dim)\n",
    "vae_model = models.vae.VAE(encoder, decoder, Reinforce(episode_size, torch.distributions.MultivariateNormal))\n",
    "\n",
    "vae = train.vae.VAE(vae_model, data_holder, torch.optim.Adam)\n",
    "vae.train(epochs)\n",
    "\n",
    "torch.save(vae_model, f'results/s{seed}_e{epochs}_es{episode_size}_lr{learning_rate}_z{latent_dim}_h{hidden_dim}.pt')"
   ]
  },
  {
   "cell_type": "code",
   "execution_count": null,
   "metadata": {},
   "outputs": [],
   "source": [
    "from torchvision.utils import save_image\n",
    "import os\n",
    "\n",
    "\n",
    "vae_model.eval()\n",
    "\n",
    "for i, (x_batch, _) in enumerate(data_holder.train_holder):\n",
    "    # Compare images from the test set with generated ones.\n",
    "    x_batch = next(iter(data_holder.train_holder))[0]\n",
    "    x_pred_batch = decoder(vae_model.probabilistic(x_batch, None, encoder(x_batch)))\n",
    "    n = min(x_batch.size(0), 8)\n",
    "    comparison = torch.cat((x_batch[:n],\n",
    "                            x_pred_batch.view(data_holder.train_holder.batch_size, 1,\n",
    "                                              data_holder.height, data_holder.width)[:n]))\n",
    "    save_image(comparison, f'results/recon{i}.png', nrow=n)"
   ]
  },
  {
   "cell_type": "code",
   "execution_count": null,
   "metadata": {},
   "outputs": [],
   "source": []
  }
 ],
 "metadata": {
  "kernelspec": {
   "display_name": "thesis-kernel",
   "language": "python",
   "name": "thesis-kernel"
  },
  "language_info": {
   "codemirror_mode": {
    "name": "ipython",
    "version": 3
   },
   "file_extension": ".py",
   "mimetype": "text/x-python",
   "name": "python",
   "nbconvert_exporter": "python",
   "pygments_lexer": "ipython3",
   "version": "3.8.6"
  }
 },
 "nbformat": 4,
 "nbformat_minor": 4
}
