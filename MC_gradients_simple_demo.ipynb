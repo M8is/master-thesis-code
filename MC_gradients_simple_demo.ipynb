{
 "cells": [
  {
   "cell_type": "markdown",
   "metadata": {},
   "source": [
    "# Comparing MC gradient estimators on simple objectives"
   ]
  },
  {
   "cell_type": "code",
   "execution_count": null,
   "metadata": {},
   "outputs": [],
   "source": [
    "import torch\n",
    "import matplotlib.pyplot as plt\n",
    "\n",
    "from mc_estimators.measure_valued_derivative import MVD\n",
    "from mc_estimators.reinforce import Reinforce\n",
    "from mc_estimators.pathwise import Pathwise\n",
    "\n",
    "\n",
    "# === EXPERIMENT PARAMETERS ===\n",
    "seed = 4243254\n",
    "episodes = 5000\n",
    "episode_size = 100\n",
    "learning_rate = 1e-3\n",
    "optimizer_class = torch.optim.SGD\n",
    "loss_fn = lambda x: x**2\n",
    "\n",
    "torch.manual_seed(seed)\n",
    "\n",
    "# Generate initial parameters\n",
    "init_mean = torch.ones(1, requires_grad=True)\n",
    "init_cov = torch.ones(1, requires_grad=False)\n",
    "\n",
    "\n",
    "def train(estimator):\n",
    "    mean = torch.nn.Linear(1, 1, bias=False)\n",
    "    with torch.no_grad():\n",
    "        mean.weight.copy_(init_mean.clone())\n",
    "    \n",
    "    optimizer = optimizer_class(mean.parameters(), lr=learning_rate)\n",
    "    \n",
    "    means = [init_mean]\n",
    "    covs = [init_cov]\n",
    "    \n",
    "    x = torch.ones(1)\n",
    "    for episode in range(episodes):\n",
    "        optimizer.zero_grad()\n",
    "        samples = estimator.grad_samples((mean(x), init_cov))\n",
    "        estimator.backward(loss_fn(samples))\n",
    "        optimizer.step()\n",
    "        \n",
    "        with torch.no_grad():\n",
    "            means.append(mean(x))\n",
    "            covs.append(init_cov)\n",
    "    \n",
    "    return means, covs\n",
    "\n",
    "\n",
    "estimators = {\n",
    "    # Measure-Valued Gradient\n",
    "    \"MVD\": MVD(int((episode_size + 1) / 2), 1, coupled=False),\n",
    "    # Log Gradient\n",
    "    \"REINFORCE\": Reinforce(episode_size, torch.distributions.Normal), \n",
    "    # Reparameterization-Trick Gradient\n",
    "    \"Pathwise\": Pathwise(episode_size, torch.distributions.Normal) \n",
    "}\n",
    "\n",
    "# Train and save results\n",
    "results = {name: train(estimator) \n",
    "           for i, (name, estimator) in enumerate(estimators.items())}"
   ]
  },
  {
   "cell_type": "code",
   "execution_count": 3,
   "metadata": {},
   "outputs": [
    {
     "ename": "NameError",
     "evalue": "name 'results' is not defined",
     "output_type": "error",
     "traceback": [
      "\u001b[0;31m---------------------------------------------------------------------------\u001b[0m",
      "\u001b[0;31mNameError\u001b[0m                                 Traceback (most recent call last)",
      "\u001b[0;32m<ipython-input-3-b0f4f21e0a04>\u001b[0m in \u001b[0;36m<module>\u001b[0;34m\u001b[0m\n\u001b[1;32m      2\u001b[0m \u001b[0;34m\u001b[0m\u001b[0m\n\u001b[1;32m      3\u001b[0m \u001b[0;34m\u001b[0m\u001b[0m\n\u001b[0;32m----> 4\u001b[0;31m \u001b[0mfig\u001b[0m\u001b[0;34m,\u001b[0m \u001b[0maxes\u001b[0m \u001b[0;34m=\u001b[0m \u001b[0mplt\u001b[0m\u001b[0;34m.\u001b[0m\u001b[0msubplots\u001b[0m\u001b[0;34m(\u001b[0m\u001b[0mnrows\u001b[0m\u001b[0;34m=\u001b[0m\u001b[0mlen\u001b[0m\u001b[0;34m(\u001b[0m\u001b[0mresults\u001b[0m\u001b[0;34m)\u001b[0m\u001b[0;34m,\u001b[0m \u001b[0mncols\u001b[0m\u001b[0;34m=\u001b[0m\u001b[0;36m2\u001b[0m\u001b[0;34m,\u001b[0m \u001b[0mfigsize\u001b[0m\u001b[0;34m=\u001b[0m\u001b[0;34m(\u001b[0m\u001b[0;36m15\u001b[0m\u001b[0;34m,\u001b[0m \u001b[0;36m4\u001b[0m\u001b[0;34m*\u001b[0m\u001b[0mlen\u001b[0m\u001b[0;34m(\u001b[0m\u001b[0mresults\u001b[0m\u001b[0;34m)\u001b[0m\u001b[0;34m)\u001b[0m\u001b[0;34m)\u001b[0m\u001b[0;34m\u001b[0m\u001b[0;34m\u001b[0m\u001b[0m\n\u001b[0m\u001b[1;32m      5\u001b[0m \u001b[0;34m\u001b[0m\u001b[0m\n\u001b[1;32m      6\u001b[0m \u001b[0;32mfor\u001b[0m \u001b[0mi\u001b[0m\u001b[0;34m,\u001b[0m \u001b[0;34m(\u001b[0m\u001b[0mname\u001b[0m\u001b[0;34m,\u001b[0m \u001b[0;34m(\u001b[0m\u001b[0mmeans\u001b[0m\u001b[0;34m,\u001b[0m \u001b[0mcovs\u001b[0m\u001b[0;34m)\u001b[0m\u001b[0;34m)\u001b[0m \u001b[0;32min\u001b[0m \u001b[0menumerate\u001b[0m\u001b[0;34m(\u001b[0m\u001b[0mresults\u001b[0m\u001b[0;34m.\u001b[0m\u001b[0mitems\u001b[0m\u001b[0;34m(\u001b[0m\u001b[0;34m)\u001b[0m\u001b[0;34m)\u001b[0m\u001b[0;34m:\u001b[0m\u001b[0;34m\u001b[0m\u001b[0;34m\u001b[0m\u001b[0m\n",
      "\u001b[0;31mNameError\u001b[0m: name 'results' is not defined"
     ]
    }
   ],
   "source": [
    "import matplotlib.pyplot as plt\n",
    "\n",
    "\n",
    "fig, axes = plt.subplots(nrows=len(results), ncols=2, figsize=(15, 4*len(results)))\n",
    "\n",
    "for i, (name, (means, covs)) in enumerate(results.items()):\n",
    "    axis = axes[i] if len(results) > 1 else axes\n",
    "    axis[0].plot(means)\n",
    "    axis[0].set_title(f'Mean ({name})')\n",
    "    axis[1].plot(covs)\n",
    "    axis[1].set_title(f'Covariance ({name})')\n",
    "\n",
    "fig.tight_layout()\n",
    "plt.show()"
   ]
  },
  {
   "cell_type": "code",
   "execution_count": null,
   "metadata": {},
   "outputs": [],
   "source": []
  }
 ],
 "metadata": {
  "kernelspec": {
   "display_name": "thesis-kernel",
   "language": "python",
   "name": "thesis-kernel"
  },
  "language_info": {
   "codemirror_mode": {
    "name": "ipython",
    "version": 3
   },
   "file_extension": ".py",
   "mimetype": "text/x-python",
   "name": "python",
   "nbconvert_exporter": "python",
   "pygments_lexer": "ipython3",
   "version": "3.8.6"
  }
 },
 "nbformat": 4,
 "nbformat_minor": 4
}
