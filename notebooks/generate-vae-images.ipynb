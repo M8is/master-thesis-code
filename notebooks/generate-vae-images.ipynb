{
 "cells": [
  {
   "cell_type": "code",
   "execution_count": 1,
   "id": "5002f6b0",
   "metadata": {
    "pycharm": {
     "is_executing": true
    }
   },
   "outputs": [],
   "source": [
    "import sys\n",
    "from pathlib import Path\n",
    "from os import path, chdir\n",
    "from collections import defaultdict\n",
    "from pprint import pprint\n",
    "import numpy as np\n",
    "import matplotlib.pyplot as plt\n",
    "import shutil\n",
    "\n",
    "\n",
    "sys.path.append('..')\n",
    "\n",
    "from utils.model_factory import load_models\n",
    "from utils.data_holder import DataHolder\n",
    "\n",
    "chdir('..')"
   ]
  },
  {
   "cell_type": "code",
   "execution_count": 3,
   "id": "ef48cc35",
   "metadata": {},
   "outputs": [
    {
     "name": "stdout",
     "output_type": "stream",
     "text": [
      "Generating images in `results\\vae\\mnist\\MVD\\1\\11894567\\images`...\n",
      "Generating images in `results\\vae\\mnist\\MVD\\1\\11894567\\images`...\n",
      "Generating images in `results\\vae\\mnist\\MVD\\1\\16403198\\images`...\n",
      "Generating images in `results\\vae\\mnist\\MVD\\1\\16403198\\images`...\n",
      "Generating images in `results\\vae\\mnist\\MVD\\1\\23478912\\images`...\n",
      "Generating images in `results\\vae\\mnist\\MVD\\1\\23478912\\images`...\n",
      "Generating images in `results\\vae\\mnist\\MVD\\1\\56243789\\images`...\n",
      "Generating images in `results\\vae\\mnist\\MVD\\1\\56243789\\images`...\n",
      "Generating images in `results\\vae\\mnist\\MVD\\1\\65738917\\images`...\n",
      "Generating images in `results\\vae\\mnist\\MVD\\1\\65738917\\images`...\n",
      "Generating images in `results\\vae\\mnist\\Pathwise\\1\\11894567\\images`...\n",
      "Generating images in `results\\vae\\mnist\\Pathwise\\1\\11894567\\images`...\n",
      "Generating images in `results\\vae\\mnist\\Pathwise\\1\\16403198\\images`...\n",
      "Generating images in `results\\vae\\mnist\\Pathwise\\1\\16403198\\images`...\n",
      "Generating images in `results\\vae\\mnist\\Pathwise\\1\\23478912\\images`...\n",
      "Generating images in `results\\vae\\mnist\\Pathwise\\1\\23478912\\images`...\n",
      "Generating images in `results\\vae\\mnist\\Pathwise\\1\\56243789\\images`...\n",
      "Generating images in `results\\vae\\mnist\\Pathwise\\1\\56243789\\images`...\n",
      "Generating images in `results\\vae\\mnist\\Pathwise\\1\\65738917\\images`...\n",
      "Generating images in `results\\vae\\mnist\\Pathwise\\1\\65738917\\images`...\n",
      "Generating images in `results\\vae\\mnist\\Pathwise\\80\\11894567\\images`...\n",
      "Generating images in `results\\vae\\mnist\\Pathwise\\80\\11894567\\images`...\n",
      "Generating images in `results\\vae\\mnist\\Pathwise\\80\\16403198\\images`...\n",
      "Generating images in `results\\vae\\mnist\\Pathwise\\80\\16403198\\images`...\n",
      "Generating images in `results\\vae\\mnist\\Pathwise\\80\\23478912\\images`...\n",
      "Generating images in `results\\vae\\mnist\\Pathwise\\80\\23478912\\images`...\n",
      "Generating images in `results\\vae\\mnist\\Pathwise\\80\\56243789\\images`...\n",
      "Generating images in `results\\vae\\mnist\\Pathwise\\80\\56243789\\images`...\n",
      "Generating images in `results\\vae\\mnist\\Pathwise\\80\\65738917\\images`...\n",
      "Generating images in `results\\vae\\mnist\\Pathwise\\80\\65738917\\images`...\n",
      "Generating images in `results\\vae\\mnist\\Reinforce\\10\\11894567\\images`...\n",
      "Generating images in `results\\vae\\mnist\\Reinforce\\10\\11894567\\images`...\n",
      "Generating images in `results\\vae\\mnist\\Reinforce\\10\\16403198\\images`...\n",
      "Generating images in `results\\vae\\mnist\\Reinforce\\10\\16403198\\images`...\n",
      "Generating images in `results\\vae\\mnist\\Reinforce\\10\\23478912\\images`...\n",
      "Generating images in `results\\vae\\mnist\\Reinforce\\10\\23478912\\images`...\n",
      "Generating images in `results\\vae\\mnist\\Reinforce\\10\\56243789\\images`...\n",
      "Generating images in `results\\vae\\mnist\\Reinforce\\10\\56243789\\images`...\n",
      "Generating images in `results\\vae\\mnist\\Reinforce\\10\\65738917\\images`...\n",
      "Generating images in `results\\vae\\mnist\\Reinforce\\10\\65738917\\images`...\n",
      "Generating images in `results\\vae\\mnist\\Reinforce\\80\\11894567\\images`...\n",
      "Generating images in `results\\vae\\mnist\\Reinforce\\80\\11894567\\images`...\n",
      "Generating images in `results\\vae\\mnist\\Reinforce\\80\\16403198\\images`...\n",
      "Generating images in `results\\vae\\mnist\\Reinforce\\80\\16403198\\images`...\n",
      "Generating images in `results\\vae\\mnist\\Reinforce\\80\\23478912\\images`...\n",
      "Generating images in `results\\vae\\mnist\\Reinforce\\80\\23478912\\images`...\n",
      "Generating images in `results\\vae\\mnist\\Reinforce\\80\\56243789\\images`...\n",
      "Generating images in `results\\vae\\mnist\\Reinforce\\80\\56243789\\images`...\n",
      "Generating images in `results\\vae\\mnist\\Reinforce\\80\\65738917\\images`...\n",
      "Generating images in `results\\vae\\mnist\\Reinforce\\80\\65738917\\images`...\n"
     ]
    }
   ],
   "source": [
    "dataset_name = 'mnist'\n",
    "models = load_models(Path('results', 'vae', dataset_name))\n",
    "data_holder = DataHolder.get(dataset_name, batch_size=8, shuffle=False, device='cuda')\n",
    "\n",
    "for path, model in models:\n",
    "    output_dir = path.parent / 'images'\n",
    "    if output_dir.exists():\n",
    "        shutil.rmtree(output_dir)\n",
    "    print(f'Generating images in `{output_dir}`...')\n",
    "    model.cuda().generate_images(output_dir, data_holder, limit=10)"
   ]
  },
  {
   "cell_type": "code",
   "execution_count": 2,
   "id": "5ef10693",
   "metadata": {},
   "outputs": [
    {
     "name": "stdout",
     "output_type": "stream",
     "text": [
      "Files already downloaded and verified\n",
      "Files already downloaded and verified\n",
      "Generating images in `results\\vae\\omniglot\\MVD\\1\\18874392\\images`...\n",
      "Generating images in `results\\vae\\omniglot\\MVD\\1\\18874392\\images`...\n",
      "Generating images in `results\\vae\\omniglot\\MVD\\1\\21273846\\images`...\n",
      "Generating images in `results\\vae\\omniglot\\MVD\\1\\21273846\\images`...\n",
      "Generating images in `results\\vae\\omniglot\\MVD\\1\\48913749\\images`...\n",
      "Generating images in `results\\vae\\omniglot\\MVD\\1\\48913749\\images`...\n",
      "Generating images in `results\\vae\\omniglot\\MVD\\1\\85690467\\images`...\n",
      "Generating images in `results\\vae\\omniglot\\MVD\\1\\85690467\\images`...\n",
      "Generating images in `results\\vae\\omniglot\\MVD\\1\\98467387\\images`...\n",
      "Generating images in `results\\vae\\omniglot\\MVD\\1\\98467387\\images`...\n",
      "Generating images in `results\\vae\\omniglot\\Pathwise\\256\\18874392\\images`...\n",
      "Generating images in `results\\vae\\omniglot\\Pathwise\\256\\18874392\\images`...\n",
      "Generating images in `results\\vae\\omniglot\\Pathwise\\256\\21273846\\images`...\n",
      "Generating images in `results\\vae\\omniglot\\Pathwise\\256\\21273846\\images`...\n",
      "Generating images in `results\\vae\\omniglot\\Pathwise\\256\\48913749\\images`...\n",
      "Generating images in `results\\vae\\omniglot\\Pathwise\\256\\48913749\\images`...\n",
      "Generating images in `results\\vae\\omniglot\\Pathwise\\256\\85690467\\images`...\n",
      "Generating images in `results\\vae\\omniglot\\Pathwise\\256\\85690467\\images`...\n",
      "Generating images in `results\\vae\\omniglot\\Pathwise\\256\\98467387\\images`...\n",
      "Generating images in `results\\vae\\omniglot\\Pathwise\\256\\98467387\\images`...\n",
      "Generating images in `results\\vae\\omniglot\\Reinforce\\256\\18874392\\images`...\n",
      "Generating images in `results\\vae\\omniglot\\Reinforce\\256\\18874392\\images`...\n",
      "Generating images in `results\\vae\\omniglot\\Reinforce\\256\\21273846\\images`...\n",
      "Generating images in `results\\vae\\omniglot\\Reinforce\\256\\21273846\\images`...\n",
      "Generating images in `results\\vae\\omniglot\\Reinforce\\256\\48913749\\images`...\n",
      "Generating images in `results\\vae\\omniglot\\Reinforce\\256\\48913749\\images`...\n",
      "Generating images in `results\\vae\\omniglot\\Reinforce\\256\\85690467\\images`...\n",
      "Generating images in `results\\vae\\omniglot\\Reinforce\\256\\85690467\\images`...\n",
      "Generating images in `results\\vae\\omniglot\\Reinforce\\256\\98467387\\images`...\n",
      "Generating images in `results\\vae\\omniglot\\Reinforce\\256\\98467387\\images`...\n"
     ]
    }
   ],
   "source": [
    "dataset_name = 'omniglot'\n",
    "models = load_models(Path('results', 'vae', dataset_name))\n",
    "data_holder = DataHolder.get(dataset_name, batch_size=8, shuffle=False, device='cuda')\n",
    "\n",
    "for path, model in models:\n",
    "    output_dir = path.parent / 'images'\n",
    "    if output_dir.exists():\n",
    "        shutil.rmtree(output_dir)\n",
    "    print(f'Generating images in `{output_dir}`...')\n",
    "    model.cuda().generate_images(output_dir, data_holder, limit=10)"
   ]
  },
  {
   "cell_type": "code",
   "execution_count": null,
   "id": "337a994d",
   "metadata": {},
   "outputs": [],
   "source": []
  }
 ],
 "metadata": {
  "kernelspec": {
   "display_name": "Python 3",
   "language": "python",
   "name": "python3"
  },
  "language_info": {
   "codemirror_mode": {
    "name": "ipython",
    "version": 3
   },
   "file_extension": ".py",
   "mimetype": "text/x-python",
   "name": "python",
   "nbconvert_exporter": "python",
   "pygments_lexer": "ipython3",
   "version": "3.8.5"
  }
 },
 "nbformat": 4,
 "nbformat_minor": 5
}
