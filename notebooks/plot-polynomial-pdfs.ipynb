{
 "cells": [
  {
   "cell_type": "code",
   "execution_count": 1,
   "id": "5002f6b0",
   "metadata": {
    "pycharm": {
     "is_executing": true
    }
   },
   "outputs": [],
   "source": [
    "import sys\n",
    "from pathlib import Path\n",
    "from os import path, chdir\n",
    "from collections import defaultdict\n",
    "from pprint import pprint\n",
    "import numpy as np\n",
    "import matplotlib.pyplot as plt\n",
    "import shutil\n",
    "\n",
    "\n",
    "sys.path.append('..')\n",
    "\n",
    "from utils.model_factory import load_models\n",
    "from utils.data_holder import DataHolder\n",
    "\n",
    "chdir('..')"
   ]
  },
  {
   "cell_type": "code",
   "execution_count": 3,
   "id": "ef48cc35",
   "metadata": {},
   "outputs": [
    {
     "name": "stdout",
     "output_type": "stream",
     "text": [
      "Generating images in `results\\vae\\mnist\\MVD\\1\\11894567\\images`...\n",
      "Generating images in `results\\vae\\mnist\\MVD\\1\\16403198\\images`...\n",
      "Generating images in `results\\vae\\mnist\\MVD\\1\\23478912\\images`...\n",
      "Generating images in `results\\vae\\mnist\\MVD\\1\\56243789\\images`...\n",
      "Generating images in `results\\vae\\mnist\\MVD\\1\\65738917\\images`...\n",
      "Generating images in `results\\vae\\mnist\\Pathwise\\1\\11894567\\images`...\n",
      "Generating images in `results\\vae\\mnist\\Pathwise\\1\\16403198\\images`...\n",
      "Generating images in `results\\vae\\mnist\\Pathwise\\1\\23478912\\images`...\n",
      "Generating images in `results\\vae\\mnist\\Pathwise\\1\\56243789\\images`...\n",
      "Generating images in `results\\vae\\mnist\\Pathwise\\1\\65738917\\images`...\n",
      "Generating images in `results\\vae\\mnist\\Pathwise\\80\\11894567\\images`...\n",
      "Generating images in `results\\vae\\mnist\\Pathwise\\80\\16403198\\images`...\n",
      "Generating images in `results\\vae\\mnist\\Pathwise\\80\\23478912\\images`...\n",
      "Generating images in `results\\vae\\mnist\\Pathwise\\80\\56243789\\images`...\n",
      "Generating images in `results\\vae\\mnist\\Pathwise\\80\\65738917\\images`...\n",
      "Generating images in `results\\vae\\mnist\\Reinforce\\10\\11894567\\images`...\n",
      "Generating images in `results\\vae\\mnist\\Reinforce\\10\\16403198\\images`...\n",
      "Generating images in `results\\vae\\mnist\\Reinforce\\10\\23478912\\images`...\n",
      "Generating images in `results\\vae\\mnist\\Reinforce\\10\\56243789\\images`...\n",
      "Generating images in `results\\vae\\mnist\\Reinforce\\10\\65738917\\images`...\n",
      "Generating images in `results\\vae\\mnist\\Reinforce\\80\\11894567\\images`...\n",
      "Generating images in `results\\vae\\mnist\\Reinforce\\80\\16403198\\images`...\n",
      "Generating images in `results\\vae\\mnist\\Reinforce\\80\\23478912\\images`...\n",
      "Generating images in `results\\vae\\mnist\\Reinforce\\80\\56243789\\images`...\n",
      "Generating images in `results\\vae\\mnist\\Reinforce\\80\\65738917\\images`...\n"
     ]
    }
   ],
   "source": [
    "models = load_models(Path('results', 'polynomial'))\n",
    "\n",
    "for path, model in models:\n",
    "    output_dir = path.parent / 'pdfs'\n",
    "    if output_dir.exists():\n",
    "        shutil.rmtree(output_dir)\n",
    "    print(f'Generating PDF plots in `{output_dir}`...')\n",
    "    \n",
    "    x, pdf = distribution.pdf()\n",
    "    plt.plot(x, pdf, label=\"p(x)\")\n",
    "\n",
    "    # Plot loss function\n",
    "    x = torch.tensor(np.linspace(-3, 3, 200))\n",
    "    plt.plot(x, polynomial(x), linestyle='dashed', label=\"f(x)\")\n",
    "\n",
    "    plt.title(f\"PDF of {path.stem}.\")\n",
    "    plt.legend()\n",
    "    plt.xlabel(\"x\")\n",
    "    plt.ylim(0, 1)\n",
    "\n",
    "    plt.show()"
   ]
  }
 ],
 "metadata": {
  "kernelspec": {
   "display_name": "Python 3",
   "language": "python",
   "name": "python3"
  },
  "language_info": {
   "codemirror_mode": {
    "name": "ipython",
    "version": 3
   },
   "file_extension": ".py",
   "mimetype": "text/x-python",
   "name": "python",
   "nbconvert_exporter": "python",
   "pygments_lexer": "ipython3",
   "version": "3.8.5"
  }
 },
 "nbformat": 4,
 "nbformat_minor": 5
}
