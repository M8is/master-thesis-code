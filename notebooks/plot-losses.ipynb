{
 "cells": [
  {
   "cell_type": "code",
   "execution_count": 1,
   "id": "5002f6b0",
   "metadata": {},
   "outputs": [],
   "source": [
    "import sys\n",
    "import numpy as np\n",
    "from os import path\n",
    "import pprint\n",
    "from matplotlib import pyplot as plt\n",
    "\n",
    "sys.path.append('..')\n",
    "\n",
    "from utils.meta_util import collect_results, collect_by\n",
    "from utils.tensor_holders import TensorHolder"
   ]
  },
  {
   "cell_type": "markdown",
   "id": "7c383d02",
   "metadata": {},
   "source": [
    "Load results"
   ]
  },
  {
   "cell_type": "code",
   "execution_count": 10,
   "id": "a85c9d65",
   "metadata": {},
   "outputs": [
    {
     "name": "stdout",
     "output_type": "stream",
     "text": [
      "batch_size\n",
      "compute_perf\n",
      "compute_variance\n",
      "dataset\n",
      "device\n",
      "distribution\n",
      "epochs\n",
      "learning_rate\n",
      "mc_estimator\n",
      "path\n",
      "plot_label\n",
      "revision\n",
      "sample_size\n",
      "saved_tensors\n",
      "seed\n",
      "subpath_keys\n",
      "task\n",
      "train_loss\n",
      "test_loss\n",
      "estimator_times\n",
      "estimators_stds\n",
      "\n"
     ]
    },
    {
     "ename": "NameError",
     "evalue": "name 'pprint' is not defined",
     "output_type": "error",
     "traceback": [
      "\u001b[1;31m---------------------------------------------------------------------------\u001b[0m",
      "\u001b[1;31mNameError\u001b[0m                                 Traceback (most recent call last)",
      "\u001b[1;32m<ipython-input-10-cb7fcb5d9652>\u001b[0m in \u001b[0;36m<module>\u001b[1;34m\u001b[0m\n\u001b[0;32m      5\u001b[0m \u001b[0mprint\u001b[0m\u001b[1;33m(\u001b[0m\u001b[1;33m)\u001b[0m\u001b[1;33m\u001b[0m\u001b[1;33m\u001b[0m\u001b[0m\n\u001b[0;32m      6\u001b[0m \u001b[1;33m\u001b[0m\u001b[0m\n\u001b[1;32m----> 7\u001b[1;33m \u001b[0mpprint\u001b[0m\u001b[1;33m(\u001b[0m\u001b[0mresults\u001b[0m\u001b[1;33m)\u001b[0m\u001b[1;33m\u001b[0m\u001b[1;33m\u001b[0m\u001b[0m\n\u001b[0m",
      "\u001b[1;31mNameError\u001b[0m: name 'pprint' is not defined"
     ]
    }
   ],
   "source": [
    "results_dir = path.join('..', 'results', 'logreg')\n",
    "results = collect_results(results_dir)\n",
    "for k in results[0].keys():\n",
    "    print(k)\n",
    "print()\n",
    "\n",
    "pprint(results)"
   ]
  },
  {
   "cell_type": "code",
   "execution_count": 3,
   "id": "f6077b11",
   "metadata": {},
   "outputs": [],
   "source": [
    "plot_dir = '.'"
   ]
  },
  {
   "cell_type": "code",
   "execution_count": 13,
   "id": "3b7fead3",
   "metadata": {},
   "outputs": [
    {
     "name": "stdout",
     "output_type": "stream",
     "text": [
      "1\n",
      "{'batch_size': 32, 'compute_perf': True, 'compute_variance': True, 'dataset': 'cancer', 'device': 'cuda', 'distribution': 'MultivariateNormal', 'epochs': 20, 'learning_rate': 0.001, 'mc_estimator': 'MVD', 'path': 'results\\\\logreg\\\\cancer\\\\MVD\\\\1\\\\2930489', 'plot_label': '$mc_estimator$ $sample_size$ sample(s)', 'revision': '7700974d48507f045c90efc453bb031b4b57e600', 'sample_size': 1, 'saved_tensors': ['train_loss', 'test_loss', 'estimator_times', 'estimators_stds'], 'seed': 2930489, 'subpath_keys': ['mc_estimator', 'sample_size'], 'task': 'logreg', 'train_loss': <utils.tensor_holders.TensorHolder object at 0x000001C151C09B20>, 'test_loss': <utils.tensor_holders.TensorHolder object at 0x000001C151C09A60>, 'estimator_times': <utils.tensor_holders.TensorHolder object at 0x000001C151C09B80>, 'estimators_stds': <utils.tensor_holders.TensorHolder object at 0x000001C151C13D60>}\n",
      "{'batch_size': 32, 'compute_perf': True, 'compute_variance': True, 'dataset': 'cancer', 'device': 'cuda', 'distribution': 'MultivariateNormal', 'epochs': 20, 'learning_rate': 0.001, 'mc_estimator': 'MVD', 'path': 'results\\\\logreg\\\\cancer\\\\MVD\\\\1\\\\4063329', 'plot_label': '$mc_estimator$ $sample_size$ sample(s)', 'revision': '7700974d48507f045c90efc453bb031b4b57e600', 'sample_size': 1, 'saved_tensors': ['train_loss', 'test_loss', 'estimator_times', 'estimators_stds'], 'seed': 4063329, 'subpath_keys': ['mc_estimator', 'sample_size'], 'task': 'logreg', 'train_loss': <utils.tensor_holders.TensorHolder object at 0x000001C151C13370>, 'test_loss': <utils.tensor_holders.TensorHolder object at 0x000001C153DB92E0>, 'estimator_times': <utils.tensor_holders.TensorHolder object at 0x000001C153DB9DC0>, 'estimators_stds': <utils.tensor_holders.TensorHolder object at 0x000001C153DB9220>}\n",
      "{'batch_size': 32, 'compute_perf': True, 'compute_variance': True, 'dataset': 'cancer', 'device': 'cuda', 'distribution': 'MultivariateNormal', 'epochs': 20, 'learning_rate': 0.001, 'mc_estimator': 'MVD', 'path': 'results\\\\logreg\\\\cancer\\\\MVD\\\\1\\\\4637380', 'plot_label': '$mc_estimator$ $sample_size$ sample(s)', 'revision': '7700974d48507f045c90efc453bb031b4b57e600', 'sample_size': 1, 'saved_tensors': ['train_loss', 'test_loss', 'estimator_times', 'estimators_stds'], 'seed': 4637380, 'subpath_keys': ['mc_estimator', 'sample_size'], 'task': 'logreg', 'train_loss': <utils.tensor_holders.TensorHolder object at 0x000001C157E2E700>, 'test_loss': <utils.tensor_holders.TensorHolder object at 0x000001C157E2E370>, 'estimator_times': <utils.tensor_holders.TensorHolder object at 0x000001C157E2E250>, 'estimators_stds': <utils.tensor_holders.TensorHolder object at 0x000001C157E2E430>}\n",
      "{'batch_size': 32, 'compute_perf': True, 'compute_variance': True, 'dataset': 'cancer', 'device': 'cuda', 'distribution': 'MultivariateNormal', 'epochs': 20, 'learning_rate': 0.001, 'mc_estimator': 'MVD', 'path': 'results\\\\logreg\\\\cancer\\\\MVD\\\\1\\\\8463906', 'plot_label': '$mc_estimator$ $sample_size$ sample(s)', 'revision': '7700974d48507f045c90efc453bb031b4b57e600', 'sample_size': 1, 'saved_tensors': ['train_loss', 'test_loss', 'estimator_times', 'estimators_stds'], 'seed': 8463906, 'subpath_keys': ['mc_estimator', 'sample_size'], 'task': 'logreg', 'train_loss': <utils.tensor_holders.TensorHolder object at 0x000001C157E2E580>, 'test_loss': <utils.tensor_holders.TensorHolder object at 0x000001C157E2E940>, 'estimator_times': <utils.tensor_holders.TensorHolder object at 0x000001C157E2E0A0>, 'estimators_stds': <utils.tensor_holders.TensorHolder object at 0x000001C157E2E070>}\n",
      "{'batch_size': 32, 'compute_perf': True, 'compute_variance': True, 'dataset': 'cancer', 'device': 'cuda', 'distribution': 'MultivariateNormal', 'epochs': 20, 'learning_rate': 0.001, 'mc_estimator': 'MVD', 'path': 'results\\\\logreg\\\\cancer\\\\MVD\\\\1\\\\8945623', 'plot_label': '$mc_estimator$ $sample_size$ sample(s)', 'revision': '7700974d48507f045c90efc453bb031b4b57e600', 'sample_size': 1, 'saved_tensors': ['train_loss', 'test_loss', 'estimator_times', 'estimators_stds'], 'seed': 8945623, 'subpath_keys': ['mc_estimator', 'sample_size'], 'task': 'logreg', 'train_loss': <utils.tensor_holders.TensorHolder object at 0x000001C157E2EDF0>, 'test_loss': <utils.tensor_holders.TensorHolder object at 0x000001C157E2ED90>, 'estimator_times': <utils.tensor_holders.TensorHolder object at 0x000001C157E2E190>, 'estimators_stds': <utils.tensor_holders.TensorHolder object at 0x000001C157E2E6D0>}\n",
      "120\n",
      "{'batch_size': 32, 'compute_perf': True, 'compute_variance': True, 'dataset': 'cancer', 'device': 'cuda', 'distribution': 'MultivariateNormal', 'epochs': 20, 'learning_rate': 0.001, 'mc_estimator': 'Pathwise', 'path': 'results\\\\logreg\\\\cancer\\\\Pathwise\\\\120\\\\2930489', 'plot_label': '$mc_estimator$ $sample_size$ sample(s)', 'revision': '7700974d48507f045c90efc453bb031b4b57e600', 'sample_size': 120, 'saved_tensors': ['train_loss', 'test_loss', 'estimator_times', 'estimators_stds'], 'seed': 2930489, 'subpath_keys': ['mc_estimator', 'sample_size'], 'task': 'logreg', 'train_loss': <utils.tensor_holders.TensorHolder object at 0x000001C157E2E6A0>, 'test_loss': <utils.tensor_holders.TensorHolder object at 0x000001C157E2E550>, 'estimator_times': <utils.tensor_holders.TensorHolder object at 0x000001C157E2E100>, 'estimators_stds': <utils.tensor_holders.TensorHolder object at 0x000001C157E2E340>}\n",
      "{'batch_size': 32, 'compute_perf': True, 'compute_variance': True, 'dataset': 'cancer', 'device': 'cuda', 'distribution': 'MultivariateNormal', 'epochs': 20, 'learning_rate': 0.001, 'mc_estimator': 'Pathwise', 'path': 'results\\\\logreg\\\\cancer\\\\Pathwise\\\\120\\\\4063329', 'plot_label': '$mc_estimator$ $sample_size$ sample(s)', 'revision': '7700974d48507f045c90efc453bb031b4b57e600', 'sample_size': 120, 'saved_tensors': ['train_loss', 'test_loss', 'estimator_times', 'estimators_stds'], 'seed': 4063329, 'subpath_keys': ['mc_estimator', 'sample_size'], 'task': 'logreg', 'train_loss': <utils.tensor_holders.TensorHolder object at 0x000001C157E2E520>, 'test_loss': <utils.tensor_holders.TensorHolder object at 0x000001C157E2EC40>, 'estimator_times': <utils.tensor_holders.TensorHolder object at 0x000001C157E2E5B0>, 'estimators_stds': <utils.tensor_holders.TensorHolder object at 0x000001C157E2E3A0>}\n",
      "{'batch_size': 32, 'compute_perf': True, 'compute_variance': True, 'dataset': 'cancer', 'device': 'cuda', 'distribution': 'MultivariateNormal', 'epochs': 20, 'learning_rate': 0.001, 'mc_estimator': 'Pathwise', 'path': 'results\\\\logreg\\\\cancer\\\\Pathwise\\\\120\\\\4637380', 'plot_label': '$mc_estimator$ $sample_size$ sample(s)', 'revision': '7700974d48507f045c90efc453bb031b4b57e600', 'sample_size': 120, 'saved_tensors': ['train_loss', 'test_loss', 'estimator_times', 'estimators_stds'], 'seed': 4637380, 'subpath_keys': ['mc_estimator', 'sample_size'], 'task': 'logreg', 'train_loss': <utils.tensor_holders.TensorHolder object at 0x000001C157E2E400>, 'test_loss': <utils.tensor_holders.TensorHolder object at 0x000001C157E2ECA0>, 'estimator_times': <utils.tensor_holders.TensorHolder object at 0x000001C157E2EFD0>, 'estimators_stds': <utils.tensor_holders.TensorHolder object at 0x000001C157E2E2B0>}\n",
      "{'batch_size': 32, 'compute_perf': True, 'compute_variance': True, 'dataset': 'cancer', 'device': 'cuda', 'distribution': 'MultivariateNormal', 'epochs': 20, 'learning_rate': 0.001, 'mc_estimator': 'Pathwise', 'path': 'results\\\\logreg\\\\cancer\\\\Pathwise\\\\120\\\\8463906', 'plot_label': '$mc_estimator$ $sample_size$ sample(s)', 'revision': '7700974d48507f045c90efc453bb031b4b57e600', 'sample_size': 120, 'saved_tensors': ['train_loss', 'test_loss', 'estimator_times', 'estimators_stds'], 'seed': 8463906, 'subpath_keys': ['mc_estimator', 'sample_size'], 'task': 'logreg', 'train_loss': <utils.tensor_holders.TensorHolder object at 0x000001C157E2EEE0>, 'test_loss': <utils.tensor_holders.TensorHolder object at 0x000001C157E2EF10>, 'estimator_times': <utils.tensor_holders.TensorHolder object at 0x000001C157E2E760>, 'estimators_stds': <utils.tensor_holders.TensorHolder object at 0x000001C157E2E4C0>}\n",
      "{'batch_size': 32, 'compute_perf': True, 'compute_variance': True, 'dataset': 'cancer', 'device': 'cuda', 'distribution': 'MultivariateNormal', 'epochs': 20, 'learning_rate': 0.001, 'mc_estimator': 'Pathwise', 'path': 'results\\\\logreg\\\\cancer\\\\Pathwise\\\\120\\\\8945623', 'plot_label': '$mc_estimator$ $sample_size$ sample(s)', 'revision': '7700974d48507f045c90efc453bb031b4b57e600', 'sample_size': 120, 'saved_tensors': ['train_loss', 'test_loss', 'estimator_times', 'estimators_stds'], 'seed': 8945623, 'subpath_keys': ['mc_estimator', 'sample_size'], 'task': 'logreg', 'train_loss': <utils.tensor_holders.TensorHolder object at 0x000001C157E2E7F0>, 'test_loss': <utils.tensor_holders.TensorHolder object at 0x000001C157E2ED00>, 'estimator_times': <utils.tensor_holders.TensorHolder object at 0x000001C157E2EB80>, 'estimators_stds': <utils.tensor_holders.TensorHolder object at 0x000001C157E2EEB0>}\n",
      "120\n",
      "{'batch_size': 32, 'compute_perf': True, 'compute_variance': True, 'dataset': 'cancer', 'device': 'cuda', 'distribution': 'MultivariateNormal', 'epochs': 20, 'learning_rate': 0.001, 'mc_estimator': 'Reinforce', 'path': 'results\\\\logreg\\\\cancer\\\\Reinforce\\\\120\\\\2930489', 'plot_label': '$mc_estimator$ $sample_size$ sample(s)', 'revision': '7700974d48507f045c90efc453bb031b4b57e600', 'sample_size': 120, 'saved_tensors': ['train_loss', 'test_loss', 'estimator_times', 'estimators_stds'], 'seed': 2930489, 'subpath_keys': ['mc_estimator', 'sample_size'], 'task': 'logreg', 'train_loss': <utils.tensor_holders.TensorHolder object at 0x000001C157E54340>, 'test_loss': <utils.tensor_holders.TensorHolder object at 0x000001C157E54580>, 'estimator_times': <utils.tensor_holders.TensorHolder object at 0x000001C157E540D0>, 'estimators_stds': <utils.tensor_holders.TensorHolder object at 0x000001C157E54130>}\n",
      "{'batch_size': 32, 'compute_perf': True, 'compute_variance': True, 'dataset': 'cancer', 'device': 'cuda', 'distribution': 'MultivariateNormal', 'epochs': 20, 'learning_rate': 0.001, 'mc_estimator': 'Reinforce', 'path': 'results\\\\logreg\\\\cancer\\\\Reinforce\\\\120\\\\4063329', 'plot_label': '$mc_estimator$ $sample_size$ sample(s)', 'revision': '7700974d48507f045c90efc453bb031b4b57e600', 'sample_size': 120, 'saved_tensors': ['train_loss', 'test_loss', 'estimator_times', 'estimators_stds'], 'seed': 4063329, 'subpath_keys': ['mc_estimator', 'sample_size'], 'task': 'logreg', 'train_loss': <utils.tensor_holders.TensorHolder object at 0x000001C157E546D0>, 'test_loss': <utils.tensor_holders.TensorHolder object at 0x000001C157E54040>, 'estimator_times': <utils.tensor_holders.TensorHolder object at 0x000001C157E54760>, 'estimators_stds': <utils.tensor_holders.TensorHolder object at 0x000001C157E54310>}\n",
      "{'batch_size': 32, 'compute_perf': True, 'compute_variance': True, 'dataset': 'cancer', 'device': 'cuda', 'distribution': 'MultivariateNormal', 'epochs': 20, 'learning_rate': 0.001, 'mc_estimator': 'Reinforce', 'path': 'results\\\\logreg\\\\cancer\\\\Reinforce\\\\120\\\\4637380', 'plot_label': '$mc_estimator$ $sample_size$ sample(s)', 'revision': '7700974d48507f045c90efc453bb031b4b57e600', 'sample_size': 120, 'saved_tensors': ['train_loss', 'test_loss', 'estimator_times', 'estimators_stds'], 'seed': 4637380, 'subpath_keys': ['mc_estimator', 'sample_size'], 'task': 'logreg', 'train_loss': <utils.tensor_holders.TensorHolder object at 0x000001C157E54460>, 'test_loss': <utils.tensor_holders.TensorHolder object at 0x000001C157E54700>, 'estimator_times': <utils.tensor_holders.TensorHolder object at 0x000001C157E54A00>, 'estimators_stds': <utils.tensor_holders.TensorHolder object at 0x000001C157E54400>}\n",
      "{'batch_size': 32, 'compute_perf': True, 'compute_variance': True, 'dataset': 'cancer', 'device': 'cuda', 'distribution': 'MultivariateNormal', 'epochs': 20, 'learning_rate': 0.001, 'mc_estimator': 'Reinforce', 'path': 'results\\\\logreg\\\\cancer\\\\Reinforce\\\\120\\\\8463906', 'plot_label': '$mc_estimator$ $sample_size$ sample(s)', 'revision': '7700974d48507f045c90efc453bb031b4b57e600', 'sample_size': 120, 'saved_tensors': ['train_loss', 'test_loss', 'estimator_times', 'estimators_stds'], 'seed': 8463906, 'subpath_keys': ['mc_estimator', 'sample_size'], 'task': 'logreg', 'train_loss': <utils.tensor_holders.TensorHolder object at 0x000001C157E542E0>, 'test_loss': <utils.tensor_holders.TensorHolder object at 0x000001C157E54220>, 'estimator_times': <utils.tensor_holders.TensorHolder object at 0x000001C157E54DC0>, 'estimators_stds': <utils.tensor_holders.TensorHolder object at 0x000001C157E54490>}\n",
      "{'batch_size': 32, 'compute_perf': True, 'compute_variance': True, 'dataset': 'cancer', 'device': 'cuda', 'distribution': 'MultivariateNormal', 'epochs': 20, 'learning_rate': 0.001, 'mc_estimator': 'Reinforce', 'path': 'results\\\\logreg\\\\cancer\\\\Reinforce\\\\120\\\\8945623', 'plot_label': '$mc_estimator$ $sample_size$ sample(s)', 'revision': '7700974d48507f045c90efc453bb031b4b57e600', 'sample_size': 120, 'saved_tensors': ['train_loss', 'test_loss', 'estimator_times', 'estimators_stds'], 'seed': 8945623, 'subpath_keys': ['mc_estimator', 'sample_size'], 'task': 'logreg', 'train_loss': <utils.tensor_holders.TensorHolder object at 0x000001C157E54160>, 'test_loss': <utils.tensor_holders.TensorHolder object at 0x000001C157E54070>, 'estimator_times': <utils.tensor_holders.TensorHolder object at 0x000001C157E54C40>, 'estimators_stds': <utils.tensor_holders.TensorHolder object at 0x000001C157E54610>}\n"
     ]
    }
   ],
   "source": [
    "for k, v in collect_by(results, 'mc_estimator').items():\n",
    "    for k, v in collect_by(v, 'sample_size').items():\n",
    "        print(k)\n",
    "        for v in v:\n",
    "            print(v)"
   ]
  },
  {
   "cell_type": "code",
   "execution_count": null,
   "id": "a9362dad",
   "metadata": {},
   "outputs": [],
   "source": []
  }
 ],
 "metadata": {
  "kernelspec": {
   "display_name": "Python 3",
   "language": "python",
   "name": "python3"
  },
  "language_info": {
   "codemirror_mode": {
    "name": "ipython",
    "version": 3
   },
   "file_extension": ".py",
   "mimetype": "text/x-python",
   "name": "python",
   "nbconvert_exporter": "python",
   "pygments_lexer": "ipython3",
   "version": "3.8.5"
  }
 },
 "nbformat": 4,
 "nbformat_minor": 5
}
